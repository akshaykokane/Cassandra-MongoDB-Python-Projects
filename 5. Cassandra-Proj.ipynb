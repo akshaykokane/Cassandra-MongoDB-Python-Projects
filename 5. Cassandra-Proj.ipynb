{
 "cells": [
  {
   "cell_type": "code",
   "execution_count": 1,
   "metadata": {},
   "outputs": [],
   "source": [
    "from cassandra.cluster import Cluster"
   ]
  },
  {
   "cell_type": "code",
   "execution_count": 5,
   "metadata": {},
   "outputs": [],
   "source": [
    "cluster = Cluster(['localhost'])"
   ]
  },
  {
   "cell_type": "code",
   "execution_count": 6,
   "metadata": {},
   "outputs": [],
   "source": [
    "session = cluster.connect()"
   ]
  },
  {
   "cell_type": "code",
   "execution_count": 9,
   "metadata": {},
   "outputs": [
    {
     "data": {
      "text/plain": [
       "<cassandra.cluster.ResultSet at 0x116674518>"
      ]
     },
     "execution_count": 9,
     "metadata": {},
     "output_type": "execute_result"
    }
   ],
   "source": [
    "session.execute(\"CREATE KEYSPACE stocks \\\n",
    "                    WITH replication = {'class' : 'SimpleStrategy', \\\n",
    "                                         'replication_factor' : '1'}\")"
   ]
  },
  {
   "cell_type": "code",
   "execution_count": 10,
   "metadata": {},
   "outputs": [],
   "source": [
    "session.set_keyspace('stocks')"
   ]
  },
  {
   "cell_type": "code",
   "execution_count": 12,
   "metadata": {},
   "outputs": [
    {
     "data": {
      "text/plain": [
       "<cassandra.cluster.ResultSet at 0x116537160>"
      ]
     },
     "execution_count": 12,
     "metadata": {},
     "output_type": "execute_result"
    }
   ],
   "source": [
    "session.execute(\"\"\"\n",
    "                   CREATE TABLE company(\n",
    "                       company_id text,\n",
    "                       name_latest text,\n",
    "                       name_previous text,\n",
    "                       PRIMARY KEY(company_id)\n",
    "                   )\n",
    "                   \"\"\")"
   ]
  },
  {
   "cell_type": "code",
   "execution_count": 15,
   "metadata": {},
   "outputs": [
    {
     "data": {
      "text/plain": [
       "<cassandra.cluster.ResultSet at 0x116566978>"
      ]
     },
     "execution_count": 15,
     "metadata": {},
     "output_type": "execute_result"
    }
   ],
   "source": [
    "#indicator by company is the finaical values\n",
    "session.execute(\"\"\"\n",
    "                   CREATE TABLE indicator_by_company1(\n",
    "                       company_id text,\n",
    "                       indiactor_id text,\n",
    "                       yr_2010 bigint,\n",
    "                       yr_2011 bigint,\n",
    "                       yr_2012 bigint,\n",
    "                       yr_2013 bigint,\n",
    "                       yr_2014 bigint,\n",
    "                       yr_2015 bigint,\n",
    "                       yr_2016 bigint,\n",
    "                       PRIMARY KEY(company_id,indiactor_id)\n",
    "                   )\n",
    "                   \"\"\")"
   ]
  },
  {
   "cell_type": "code",
   "execution_count": 16,
   "metadata": {},
   "outputs": [],
   "source": [
    "import json\n",
    "with open('companies.json') as f_in:\n",
    "    companies = json.load(f_in)"
   ]
  },
  {
   "cell_type": "code",
   "execution_count": 17,
   "metadata": {},
   "outputs": [],
   "source": [
    "for company in companies:\n",
    "    try:\n",
    "        session.execute(\n",
    "                           \"\"\"\n",
    "                           INSERT INTO company (company_id, name_latest, name_previous)\n",
    "                           VALUES (%s, %s, %s)\n",
    "                           \"\"\",\n",
    "                           (company['company_id'],company['name_latest'], company['names_previous']))\n",
    "    except:\n",
    "        pass"
   ]
  },
  {
   "cell_type": "code",
   "execution_count": 20,
   "metadata": {},
   "outputs": [],
   "source": [
    "result_set = session.execute(\"SELECT * FROM company  LIMIT 10\")"
   ]
  },
  {
   "cell_type": "code",
   "execution_count": 22,
   "metadata": {},
   "outputs": [
    {
     "data": {
      "text/plain": [
       "[Row(company_id='1445229', name_latest='Fuer International Inc.', name_previous=None),\n",
       " Row(company_id='1376866', name_latest='8888 Acquisition Corp', name_previous=None),\n",
       " Row(company_id='76267', name_latest='Park Electrochemical Corp', name_previous=None),\n",
       " Row(company_id='1360334', name_latest='Alamo Energy Corp.', name_previous=None),\n",
       " Row(company_id='832101', name_latest='Idex Corp /DE/', name_previous=None),\n",
       " Row(company_id='1645113', name_latest='Novocure LTD', name_previous=None),\n",
       " Row(company_id='1043219', name_latest='Annaly Capital Management Inc', name_previous=None),\n",
       " Row(company_id='78003', name_latest='Pfizer Inc', name_previous=None),\n",
       " Row(company_id='1396033', name_latest='Lumber Liquidators Holdings, Inc.', name_previous=None),\n",
       " Row(company_id='1438945', name_latest='Strike Axe, Inc', name_previous=None)]"
      ]
     },
     "execution_count": 22,
     "metadata": {},
     "output_type": "execute_result"
    }
   ],
   "source": [
    "result_set.current_rows"
   ]
  },
  {
   "cell_type": "code",
   "execution_count": null,
   "metadata": {},
   "outputs": [],
   "source": []
  }
 ],
 "metadata": {
  "kernelspec": {
   "display_name": "Python 3",
   "language": "python",
   "name": "python3"
  },
  "language_info": {
   "codemirror_mode": {
    "name": "ipython",
    "version": 3
   },
   "file_extension": ".py",
   "mimetype": "text/x-python",
   "name": "python",
   "nbconvert_exporter": "python",
   "pygments_lexer": "ipython3",
   "version": "3.7.3"
  }
 },
 "nbformat": 4,
 "nbformat_minor": 2
}
